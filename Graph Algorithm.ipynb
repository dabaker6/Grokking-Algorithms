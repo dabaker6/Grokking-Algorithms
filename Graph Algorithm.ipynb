{
 "cells": [
  {
   "cell_type": "code",
   "execution_count": 1,
   "metadata": {},
   "outputs": [],
   "source": [
    "from collections import deque"
   ]
  },
  {
   "cell_type": "code",
   "execution_count": 2,
   "metadata": {},
   "outputs": [],
   "source": [
    "graph = {}\n",
    "graph[\"you\"] = [\"Alice\",\"Bob\",\"Claire\"]\n",
    "graph[\"Bob\"] = [\"Anuj\",\"Peggy\"]\n",
    "graph[\"Alice\"] = [\"Peggy\"]\n",
    "graph[\"Claire\"] = [\"Thom\",\"Jon\"]\n",
    "graph[\"Anuj\"] = []\n",
    "graph[\"Peggy\"] = []\n",
    "graph[\"Thom\"] = []\n",
    "graph[\"Jon\"] = []"
   ]
  },
  {
   "cell_type": "code",
   "execution_count": 3,
   "metadata": {},
   "outputs": [],
   "source": [
    "def person_is_seller(name):\n",
    "    return name[-1] == \"y\""
   ]
  },
  {
   "cell_type": "code",
   "execution_count": 4,
   "metadata": {},
   "outputs": [],
   "source": [
    "def search_graph(graph,name):\n",
    "    checked = {}\n",
    "    search_queue = deque()\n",
    "    search_queue +=graph[name]\n",
    "\n",
    "    while search_queue:\n",
    "        person = search_queue.popleft()\n",
    "        \n",
    "        if not checked.get(person):\n",
    "            \n",
    "            checked[person] = True\n",
    "\n",
    "            if person_is_seller(person):\n",
    "                print (person + \" is a mango seller!\")\n",
    "                return True\n",
    "            else: \n",
    "                search_queue += graph[person]\n",
    "                print(person)\n",
    "    return False"
   ]
  },
  {
   "cell_type": "code",
   "execution_count": 5,
   "metadata": {},
   "outputs": [
    {
     "name": "stdout",
     "output_type": "stream",
     "text": [
      "Alice\n",
      "Bob\n",
      "Claire\n",
      "Peggy is a mango seller!\n"
     ]
    },
    {
     "data": {
      "text/plain": [
       "True"
      ]
     },
     "execution_count": 5,
     "metadata": {},
     "output_type": "execute_result"
    }
   ],
   "source": [
    "search_graph(graph,\"you\")"
   ]
  },
  {
   "cell_type": "code",
   "execution_count": 6,
   "metadata": {},
   "outputs": [
    {
     "name": "stdout",
     "output_type": "stream",
     "text": [
      "Anuj\n",
      "Peggy is a mango seller!\n"
     ]
    },
    {
     "data": {
      "text/plain": [
       "True"
      ]
     },
     "execution_count": 6,
     "metadata": {},
     "output_type": "execute_result"
    }
   ],
   "source": [
    "search_graph(graph,\"Bob\")"
   ]
  },
  {
   "cell_type": "code",
   "execution_count": 7,
   "metadata": {},
   "outputs": [
    {
     "name": "stdout",
     "output_type": "stream",
     "text": [
      "Thom\n",
      "Jon\n"
     ]
    },
    {
     "data": {
      "text/plain": [
       "False"
      ]
     },
     "execution_count": 7,
     "metadata": {},
     "output_type": "execute_result"
    }
   ],
   "source": [
    "search_graph(graph,\"Claire\")"
   ]
  }
 ],
 "metadata": {
  "kernelspec": {
   "display_name": "Python 3",
   "language": "python",
   "name": "python3"
  },
  "language_info": {
   "codemirror_mode": {
    "name": "ipython",
    "version": 3
   },
   "file_extension": ".py",
   "mimetype": "text/x-python",
   "name": "python",
   "nbconvert_exporter": "python",
   "pygments_lexer": "ipython3",
   "version": "3.6.5"
  }
 },
 "nbformat": 4,
 "nbformat_minor": 2
}
